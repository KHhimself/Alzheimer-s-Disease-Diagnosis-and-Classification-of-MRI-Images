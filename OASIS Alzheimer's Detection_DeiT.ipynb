{
 "cells": [
  {
   "cell_type": "markdown",
   "metadata": {},
   "source": [
    "# Download OASIS DATASet"
   ]
  },
  {
   "cell_type": "code",
   "execution_count": 1,
   "metadata": {},
   "outputs": [
    {
     "name": "stderr",
     "output_type": "stream",
     "text": [
      "/home/user/miniforge3/envs/retfound/lib/python3.7/site-packages/tqdm/auto.py:21: TqdmWarning: IProgress not found. Please update jupyter and ipywidgets. See https://ipywidgets.readthedocs.io/en/stable/user_install.html\n",
      "  from .autonotebook import tqdm as notebook_tqdm\n"
     ]
    },
    {
     "name": "stdout",
     "output_type": "stream",
     "text": [
      "Warning: Looks like you're using an outdated `kagglehub` version, please consider updating (latest version: 0.3.5)\n",
      "Path to dataset files: /home/user/.cache/kagglehub/datasets/ninadaithal/imagesoasis/versions/1\n"
     ]
    }
   ],
   "source": [
    "import kagglehub\n",
    "\n",
    "# Download latest version\n",
    "path = kagglehub.dataset_download(\"ninadaithal/imagesoasis\")\n",
    "\n",
    "print(\"Path to dataset files:\", path)"
   ]
  },
  {
   "cell_type": "code",
   "execution_count": 2,
   "metadata": {},
   "outputs": [],
   "source": [
    "import torch\n",
    "import os\n",
    "from tqdm import tqdm\n",
    "import numpy as np\n",
    "import cv2\n",
    "import matplotlib.pyplot as plt\n",
    "import time\n",
    "from PIL import Image\n",
    "import torch.nn as nn"
   ]
  },
  {
   "cell_type": "markdown",
   "metadata": {},
   "source": [
    "### Load Dataset\n",
    "Data_size: 224 x 224\n",
    "1. Non demented: 6,7222\n",
    "2. mild demented: 5002\n",
    "3. moderate demented: 488\n",
    "4. very demented: 1,3725"
   ]
  },
  {
   "cell_type": "code",
   "execution_count": 3,
   "metadata": {},
   "outputs": [],
   "source": [
    "# import dataset\n",
    "from torch.utils.data import DataLoader\n",
    "from torchvision import datasets, transforms\n",
    "\n",
    "transform = transforms.Compose([\n",
    "    transforms.CenterCrop(size=(224, 224)),  # resize to 224x224\n",
    "    transforms.ToTensor(),          # convert PIL image to PyTorch tensor\n",
    "    transforms.Normalize(\n",
    "        mean=[0.485, 0.456, 0.406], \n",
    "        std=[0.229, 0.224, 0.225]\n",
    "    )  # standard ImageNet normalization\n",
    "])\n",
    "\n",
    "train_dataset = datasets.ImageFolder(root='data/train', transform=transform)\n",
    "train_loader = DataLoader(train_dataset, batch_size=8, shuffle=True)\n",
    "\n",
    "total_size = len(train_dataset)\n",
    "train_size = int(0.8 * total_size)\n",
    "val_size = total_size - train_size\n",
    "train_dataset, val_dataset = torch.utils.data.random_split(train_dataset, [train_size, val_size])\n",
    "finetune_loader = DataLoader(train_dataset, batch_size=8, shuffle=True)\n",
    "val_loader = DataLoader(val_dataset, batch_size=8, shuffle=True)\n"
   ]
  },
  {
   "cell_type": "code",
   "execution_count": 4,
   "metadata": {},
   "outputs": [],
   "source": [
    "# Model settings\n",
    "from timm.optim import optim_factory\n",
    "from Model.ViT.models_vit import VisionTransformer\n",
    "from Model.ViT.models_mae import MaskedAutoencoderViT\n",
    "from PIL import Image\n",
    "\n",
    "device = torch.device('cuda' if torch.cuda.is_available() else 'cpu')\n",
    "\n",
    "weight_path = os.path.join(\"Model\", \"ViT\", \"mae_pretrain_vit_base.pth\")\n",
    "model_mae = MaskedAutoencoderViT(embed_dim=768, depth=12, num_heads=12)\n",
    "check_point = torch.load(weight_path)\n",
    "check_point_model = check_point['model']\n",
    "model_mae.load_state_dict(check_point_model, strict=False)\n",
    "\n",
    "\n",
    "param_groups = optim_factory.add_weight_decay(model_mae, 0.05)\n",
    "optimizer = torch.optim.AdamW(param_groups, lr=1.5e-4, betas=(0.9, 0.95))\n",
    "\n",
    "mseloss = nn.MSELoss()\n",
    "\n",
    "model_mae = model_mae.to(device)"
   ]
  },
  {
   "cell_type": "code",
   "execution_count": 5,
   "metadata": {},
   "outputs": [],
   "source": [
    "def load_checkpoints(epoch, model, optimizer, stage):\n",
    "    checkpoint_path = f\"checkpoints/RETfound/{stage}\"\n",
    "    \n",
    "    if os.path.exists(checkpoint_path):\n",
    "        print(f\"Load checkpoint from {checkpoint_path}\")\n",
    "        checkpoint = torch.load(checkpoint_path)\n",
    "        model.load_state_dict(checkpoint['model'])\n",
    "        optimizer.load_state_dict(checkpoint['optimizer'])\n",
    "        epoch = checkpoint['epoch']\n",
    "        print(f\"Loaded checkpoint from epoch {epoch}\")\n",
    "\n",
    "def save_checkpoints(epoch, model, optimizer, stage):\n",
    "    checkpoint_path = f\"checkpoints/ConvNeXtV2/{stage}\"\n",
    "    \n",
    "    if not os.path.exists(checkpoint_path):\n",
    "        os.makedirs(checkpoint_path)\n",
    "    \n",
    "    torch.save({\n",
    "        'model': model.state_dict(),\n",
    "        'optimizer': optimizer.state_dict()\n",
    "    }, checkpoint_path + f\"/checkpoint_{epoch}.pth\")"
   ]
  },
  {
   "cell_type": "markdown",
   "metadata": {},
   "source": [
    "# Pretrain fcmae"
   ]
  },
  {
   "cell_type": "code",
   "execution_count": null,
   "metadata": {},
   "outputs": [],
   "source": [
    "#pretrain mae on imagenet\n",
    "pretrain_epoch = 2000\n",
    "start_epoch = 0\n",
    "\n",
    "\n",
    "if start_epoch:\n",
    "    load_checkpoints(start_epoch, model_mae, optimizer, stage=\"imagenet\")\n",
    "\n",
    "for epoch in range(start_epoch, pretrain_epoch):\n",
    "    torch.cuda.empty_cache()\n",
    "    epoch_loss = 0\n",
    "\n",
    "    localtime = time.asctime( time.localtime(time.time()) )\n",
    "    tqdm.write('Epoch: {}/{} --- < Starting Time : {} >'.format(epoch + 1,pretrain_epoch,localtime))\n",
    "    tqdm.write('-' * len('Epoch: {}/{} --- < Starting Time : {} >'.format(epoch + 1,pretrain_epoch, localtime)))\n",
    "\n",
    "    folder_name = os.path.join(\"see_image\", \"imagent\")\n",
    "    os.makedirs(folder_name, exist_ok=True)\n",
    "\n",
    "    torch.cuda.empty_cache()\n",
    "    \n",
    "    for batch in tqdm(imagenet_loader):\n",
    "        img, label = batch\n",
    "        img = img.to(device)\n",
    "\n",
    "\n",
    "            \n",
    "        model_mae.train()\n",
    "        model_autoencoder.eval()\n",
    "        optimizer.zero_grad()\n",
    "\n",
    "\n",
    "        loss, pred, mask = model_mae(img)\n",
    "            \n",
    "        image = pred[0].cpu().detach().numpy().transpose(1, 2, 0)\n",
    "        img_np = img[0].cpu().detach().numpy().transpose(1, 2, 0)\n",
    "        img_np = (img_np * 255).astype(np.uint8)\n",
    "        pred_np = (image * 255).astype(np.uint8)\n",
    "\n",
    "        cv2.imshow(\"pred img\", pred_np)\n",
    "        cv2.waitKey(1)\n",
    "        cv2.imshow(\"targe img\", img_np)\n",
    "        cv2.waitKey(1)\n",
    "\n",
    "        epoch_loss += loss\n",
    "        loss.backward()\n",
    "        optimizer.step()\n",
    "        \n",
    "    print(f'Epoch{epoch+1} loss : \\n pretrain loss : {epoch_loss}')\n",
    "\n",
    "    if (epoch+1) % 10 == 0:\n",
    "        save_checkpoints(epoch, model_mae, optimizer, stage=\"imagenet\")"
   ]
  },
  {
   "cell_type": "code",
   "execution_count": null,
   "metadata": {},
   "outputs": [],
   "source": [
    "#pretrain mae on oasis dataset\n",
    "pretrain_epoch = 2000\n",
    "start_epoch = 0\n",
    "\n",
    "\n",
    "if start_epoch:\n",
    "    load_checkpoints(start_epoch-1, model_mae, optimizer, stage=\"pretrain\")\n",
    "\n",
    "for epoch in range(start_epoch, pretrain_epoch):\n",
    "    torch.cuda.empty_cache()\n",
    "    epoch_loss = 0\n",
    "\n",
    "    localtime = time.asctime( time.localtime(time.time()) )\n",
    "    tqdm.write('Epoch: {}/{} --- < Starting Time : {} >'.format(epoch + 1,pretrain_epoch,localtime))\n",
    "    tqdm.write('-' * len('Epoch: {}/{} --- < Starting Time : {} >'.format(epoch + 1,pretrain_epoch, localtime)))\n",
    "\n",
    "    folder_name = os.path.join(\"see_image\", \"pre-train\")\n",
    "    os.makedirs(folder_name, exist_ok=True)\n",
    "\n",
    "    torch.cuda.empty_cache()\n",
    "    \n",
    "    for batch in tqdm(train_loader):\n",
    "        img, label = batch\n",
    "        img = img.to(device)\n",
    "\n",
    "\n",
    "        loss, pred, mask = model_mae(img)\n",
    "            \n",
    "        image = pred[0].cpu().detach().numpy().transpose(1, 2, 0)\n",
    "        img_np = img[0].cpu().detach().numpy().transpose(1, 2, 0)\n",
    "        img_np = (img_np * 255).astype(np.uint8)\n",
    "        pred_np = (image * 255).astype(np.uint8)\n",
    "\n",
    "        cv2.imshow(\"pred img\", pred_np)\n",
    "        cv2.waitKey(1)\n",
    "        cv2.imshow(\"targe img\", img_np)\n",
    "        cv2.waitKey(1)\n",
    "            \n",
    "        epoch_loss += loss\n",
    "        loss.backward()\n",
    "        optimizer.step()\n",
    "        \n",
    "    print(f'Epoch{epoch+1} loss : \\n pretrain loss : {epoch_loss}')\n",
    "\n",
    "    if (epoch+1) % 10 == 0:\n",
    "        save_checkpoints(epoch+1, model=model_mae, optimizer=optimizer, stage=\"pretrain\")"
   ]
  },
  {
   "cell_type": "code",
   "execution_count": 6,
   "metadata": {},
   "outputs": [],
   "source": [
    "from transformers import ViTForImageClassification\n",
    "\n",
    "model_autoencoder = ViTForImageClassification.from_pretrained('facebook/deit-base-patch16-224')\n",
    "model_autoencoder.classifier = nn.Linear(model_autoencoder.config.hidden_size, 4)\n",
    "model_autoencoder = model_autoencoder.to(device)\n",
    "\n",
    "param_groups = optim_factory.add_weight_decay(model_autoencoder, 0.05)\n",
    "optimizer = torch.optim.AdamW(param_groups, lr=1.5e-4, betas=(0.9, 0.95))"
   ]
  },
  {
   "cell_type": "code",
   "execution_count": 7,
   "metadata": {},
   "outputs": [
    {
     "name": "stdout",
     "output_type": "stream",
     "text": [
      "Epoch: 1/25 --- < Starting Time : Sat Dec 21 17:01:58 2024 >\n",
      "------------------------------------------------------------\n"
     ]
    },
    {
     "name": "stderr",
     "output_type": "stream",
     "text": [
      "100%|██████████| 8644/8644 [09:34<00:00, 15.04it/s]\n"
     ]
    },
    {
     "name": "stdout",
     "output_type": "stream",
     "text": [
      "Epoch1 loss : \n",
      " pretrain loss : 2341.689697265625\n"
     ]
    },
    {
     "name": "stderr",
     "output_type": "stream",
     "text": [
      "100%|██████████| 2161/2161 [01:04<00:00, 33.27it/s]\n"
     ]
    },
    {
     "name": "stdout",
     "output_type": "stream",
     "text": [
      "Precision: 0.9436\n",
      "Recall: 0.9452\n",
      "F1 Score: 0.9425\n",
      "Accuracy: 0.9452\n",
      "Test loss: 0.17036653988232275\n",
      "Epoch: 2/25 --- < Starting Time : Sat Dec 21 17:12:40 2024 >\n",
      "------------------------------------------------------------\n"
     ]
    },
    {
     "name": "stderr",
     "output_type": "stream",
     "text": [
      "100%|██████████| 8644/8644 [09:26<00:00, 15.25it/s]\n"
     ]
    },
    {
     "name": "stdout",
     "output_type": "stream",
     "text": [
      "Epoch2 loss : \n",
      " pretrain loss : 915.5570678710938\n"
     ]
    },
    {
     "name": "stderr",
     "output_type": "stream",
     "text": [
      "100%|██████████| 2161/2161 [01:03<00:00, 33.87it/s]\n"
     ]
    },
    {
     "name": "stdout",
     "output_type": "stream",
     "text": [
      "Precision: 0.9749\n",
      "Recall: 0.9747\n",
      "F1 Score: 0.9741\n",
      "Accuracy: 0.9747\n",
      "Test loss: 0.07963207234829545\n",
      "Epoch: 3/25 --- < Starting Time : Sat Dec 21 17:23:12 2024 >\n",
      "------------------------------------------------------------\n"
     ]
    },
    {
     "name": "stderr",
     "output_type": "stream",
     "text": [
      "100%|██████████| 8644/8644 [09:46<00:00, 14.75it/s]\n"
     ]
    },
    {
     "name": "stdout",
     "output_type": "stream",
     "text": [
      "Epoch3 loss : \n",
      " pretrain loss : 612.7422485351562\n"
     ]
    },
    {
     "name": "stderr",
     "output_type": "stream",
     "text": [
      "100%|██████████| 2161/2161 [01:03<00:00, 34.25it/s]\n"
     ]
    },
    {
     "name": "stdout",
     "output_type": "stream",
     "text": [
      "Precision: 0.9630\n",
      "Recall: 0.9542\n",
      "F1 Score: 0.9562\n",
      "Accuracy: 0.9542\n",
      "Test loss: 0.1261129685612835\n",
      "Epoch: 4/25 --- < Starting Time : Sat Dec 21 17:34:04 2024 >\n",
      "------------------------------------------------------------\n"
     ]
    },
    {
     "name": "stderr",
     "output_type": "stream",
     "text": [
      "100%|██████████| 8644/8644 [09:45<00:00, 14.76it/s]\n"
     ]
    },
    {
     "name": "stdout",
     "output_type": "stream",
     "text": [
      "Epoch4 loss : \n",
      " pretrain loss : 550.233642578125\n"
     ]
    },
    {
     "name": "stderr",
     "output_type": "stream",
     "text": [
      "100%|██████████| 2161/2161 [01:04<00:00, 33.58it/s]\n"
     ]
    },
    {
     "name": "stdout",
     "output_type": "stream",
     "text": [
      "Precision: 0.9738\n",
      "Recall: 0.9736\n",
      "F1 Score: 0.9731\n",
      "Accuracy: 0.9736\n",
      "Test loss: 0.0965578322934732\n",
      "Epoch: 5/25 --- < Starting Time : Sat Dec 21 17:44:56 2024 >\n",
      "------------------------------------------------------------\n"
     ]
    },
    {
     "name": "stderr",
     "output_type": "stream",
     "text": [
      "100%|██████████| 8644/8644 [09:46<00:00, 14.74it/s]\n"
     ]
    },
    {
     "name": "stdout",
     "output_type": "stream",
     "text": [
      "Epoch5 loss : \n",
      " pretrain loss : 512.3602905273438\n"
     ]
    },
    {
     "name": "stderr",
     "output_type": "stream",
     "text": [
      "100%|██████████| 2161/2161 [01:03<00:00, 34.01it/s]\n"
     ]
    },
    {
     "name": "stdout",
     "output_type": "stream",
     "text": [
      "Precision: 0.9829\n",
      "Recall: 0.9827\n",
      "F1 Score: 0.9825\n",
      "Accuracy: 0.9827\n",
      "Test loss: 0.0533166986725211\n",
      "Epoch: 6/25 --- < Starting Time : Sat Dec 21 17:55:49 2024 >\n",
      "------------------------------------------------------------\n"
     ]
    },
    {
     "name": "stderr",
     "output_type": "stream",
     "text": [
      "100%|██████████| 8644/8644 [09:44<00:00, 14.79it/s]\n"
     ]
    },
    {
     "name": "stdout",
     "output_type": "stream",
     "text": [
      "Epoch6 loss : \n",
      " pretrain loss : 501.3293762207031\n"
     ]
    },
    {
     "name": "stderr",
     "output_type": "stream",
     "text": [
      "100%|██████████| 2161/2161 [01:03<00:00, 34.11it/s]\n"
     ]
    },
    {
     "name": "stdout",
     "output_type": "stream",
     "text": [
      "Precision: 0.9836\n",
      "Recall: 0.9835\n",
      "F1 Score: 0.9832\n",
      "Accuracy: 0.9835\n",
      "Test loss: 0.05299413266077475\n",
      "Epoch: 7/25 --- < Starting Time : Sat Dec 21 18:06:39 2024 >\n",
      "------------------------------------------------------------\n"
     ]
    },
    {
     "name": "stderr",
     "output_type": "stream",
     "text": [
      "100%|██████████| 8644/8644 [09:50<00:00, 14.64it/s]\n"
     ]
    },
    {
     "name": "stdout",
     "output_type": "stream",
     "text": [
      "Epoch7 loss : \n",
      " pretrain loss : 464.352783203125\n"
     ]
    },
    {
     "name": "stderr",
     "output_type": "stream",
     "text": [
      "100%|██████████| 2161/2161 [01:03<00:00, 33.77it/s]\n"
     ]
    },
    {
     "name": "stdout",
     "output_type": "stream",
     "text": [
      "Precision: 0.9895\n",
      "Recall: 0.9895\n",
      "F1 Score: 0.9893\n",
      "Accuracy: 0.9895\n",
      "Test loss: 0.043076391866755576\n",
      "Epoch: 8/25 --- < Starting Time : Sat Dec 21 18:17:35 2024 >\n",
      "------------------------------------------------------------\n"
     ]
    },
    {
     "name": "stderr",
     "output_type": "stream",
     "text": [
      "100%|██████████| 8644/8644 [09:46<00:00, 14.75it/s]\n"
     ]
    },
    {
     "name": "stdout",
     "output_type": "stream",
     "text": [
      "Epoch8 loss : \n",
      " pretrain loss : 450.60369873046875\n"
     ]
    },
    {
     "name": "stderr",
     "output_type": "stream",
     "text": [
      "100%|██████████| 2161/2161 [01:03<00:00, 34.05it/s]\n"
     ]
    },
    {
     "name": "stdout",
     "output_type": "stream",
     "text": [
      "Precision: 0.9906\n",
      "Recall: 0.9903\n",
      "F1 Score: 0.9904\n",
      "Accuracy: 0.9903\n",
      "Test loss: 0.029329715198570694\n",
      "Epoch: 9/25 --- < Starting Time : Sat Dec 21 18:28:27 2024 >\n",
      "------------------------------------------------------------\n"
     ]
    },
    {
     "name": "stderr",
     "output_type": "stream",
     "text": [
      "100%|██████████| 8644/8644 [09:49<00:00, 14.67it/s]\n"
     ]
    },
    {
     "name": "stdout",
     "output_type": "stream",
     "text": [
      "Epoch9 loss : \n",
      " pretrain loss : 410.21026611328125\n"
     ]
    },
    {
     "name": "stderr",
     "output_type": "stream",
     "text": [
      "100%|██████████| 2161/2161 [01:03<00:00, 33.91it/s]\n"
     ]
    },
    {
     "name": "stdout",
     "output_type": "stream",
     "text": [
      "Precision: 0.9842\n",
      "Recall: 0.9833\n",
      "F1 Score: 0.9836\n",
      "Accuracy: 0.9833\n",
      "Test loss: 0.05482148844568941\n",
      "Epoch: 10/25 --- < Starting Time : Sat Dec 21 18:39:22 2024 >\n",
      "-------------------------------------------------------------\n"
     ]
    },
    {
     "name": "stderr",
     "output_type": "stream",
     "text": [
      "100%|██████████| 8644/8644 [09:49<00:00, 14.66it/s]\n"
     ]
    },
    {
     "name": "stdout",
     "output_type": "stream",
     "text": [
      "Epoch10 loss : \n",
      " pretrain loss : 366.26910400390625\n"
     ]
    },
    {
     "name": "stderr",
     "output_type": "stream",
     "text": [
      "100%|██████████| 2161/2161 [01:03<00:00, 34.06it/s]\n"
     ]
    },
    {
     "name": "stdout",
     "output_type": "stream",
     "text": [
      "Precision: 0.9917\n",
      "Recall: 0.9914\n",
      "F1 Score: 0.9914\n",
      "Accuracy: 0.9914\n",
      "Test loss: 0.034307790474295725\n",
      "Epoch: 11/25 --- < Starting Time : Sat Dec 21 18:50:18 2024 >\n",
      "-------------------------------------------------------------\n"
     ]
    },
    {
     "name": "stderr",
     "output_type": "stream",
     "text": [
      "100%|██████████| 8644/8644 [09:47<00:00, 14.72it/s]\n"
     ]
    },
    {
     "name": "stdout",
     "output_type": "stream",
     "text": [
      "Epoch11 loss : \n",
      " pretrain loss : 368.1532897949219\n"
     ]
    },
    {
     "name": "stderr",
     "output_type": "stream",
     "text": [
      "100%|██████████| 2161/2161 [01:03<00:00, 33.92it/s]\n"
     ]
    },
    {
     "name": "stdout",
     "output_type": "stream",
     "text": [
      "Precision: 0.9928\n",
      "Recall: 0.9927\n",
      "F1 Score: 0.9928\n",
      "Accuracy: 0.9927\n",
      "Test loss: 0.023094751533894634\n",
      "Epoch: 12/25 --- < Starting Time : Sat Dec 21 19:01:11 2024 >\n",
      "-------------------------------------------------------------\n"
     ]
    },
    {
     "name": "stderr",
     "output_type": "stream",
     "text": [
      "100%|██████████| 8644/8644 [09:48<00:00, 14.69it/s]\n"
     ]
    },
    {
     "name": "stdout",
     "output_type": "stream",
     "text": [
      "Epoch12 loss : \n",
      " pretrain loss : 368.3670959472656\n"
     ]
    },
    {
     "name": "stderr",
     "output_type": "stream",
     "text": [
      "100%|██████████| 2161/2161 [01:03<00:00, 33.84it/s]\n"
     ]
    },
    {
     "name": "stdout",
     "output_type": "stream",
     "text": [
      "Precision: 0.9847\n",
      "Recall: 0.9846\n",
      "F1 Score: 0.9846\n",
      "Accuracy: 0.9846\n",
      "Test loss: 0.04835356811044966\n",
      "Epoch: 13/25 --- < Starting Time : Sat Dec 21 19:12:05 2024 >\n",
      "-------------------------------------------------------------\n"
     ]
    },
    {
     "name": "stderr",
     "output_type": "stream",
     "text": [
      "100%|██████████| 8644/8644 [09:45<00:00, 14.76it/s]\n"
     ]
    },
    {
     "name": "stdout",
     "output_type": "stream",
     "text": [
      "Epoch13 loss : \n",
      " pretrain loss : 361.8525695800781\n"
     ]
    },
    {
     "name": "stderr",
     "output_type": "stream",
     "text": [
      "100%|██████████| 2161/2161 [01:03<00:00, 34.02it/s]\n"
     ]
    },
    {
     "name": "stdout",
     "output_type": "stream",
     "text": [
      "Precision: 0.9854\n",
      "Recall: 0.9854\n",
      "F1 Score: 0.9853\n",
      "Accuracy: 0.9854\n",
      "Test loss: 0.04521650358014648\n",
      "Epoch: 14/25 --- < Starting Time : Sat Dec 21 19:22:57 2024 >\n",
      "-------------------------------------------------------------\n"
     ]
    },
    {
     "name": "stderr",
     "output_type": "stream",
     "text": [
      "100%|██████████| 8644/8644 [09:49<00:00, 14.66it/s]\n"
     ]
    },
    {
     "name": "stdout",
     "output_type": "stream",
     "text": [
      "Epoch14 loss : \n",
      " pretrain loss : 365.41961669921875\n"
     ]
    },
    {
     "name": "stderr",
     "output_type": "stream",
     "text": [
      "100%|██████████| 2161/2161 [01:03<00:00, 33.89it/s]\n"
     ]
    },
    {
     "name": "stdout",
     "output_type": "stream",
     "text": [
      "Precision: 0.9914\n",
      "Recall: 0.9913\n",
      "F1 Score: 0.9913\n",
      "Accuracy: 0.9913\n",
      "Test loss: 0.03371794105842258\n",
      "Epoch: 15/25 --- < Starting Time : Sat Dec 21 19:33:53 2024 >\n",
      "-------------------------------------------------------------\n"
     ]
    },
    {
     "name": "stderr",
     "output_type": "stream",
     "text": [
      "100%|██████████| 8644/8644 [09:48<00:00, 14.70it/s]\n"
     ]
    },
    {
     "name": "stdout",
     "output_type": "stream",
     "text": [
      "Epoch15 loss : \n",
      " pretrain loss : 372.59490966796875\n"
     ]
    },
    {
     "name": "stderr",
     "output_type": "stream",
     "text": [
      "100%|██████████| 2161/2161 [01:03<00:00, 34.26it/s]\n"
     ]
    },
    {
     "name": "stdout",
     "output_type": "stream",
     "text": [
      "Precision: 0.9859\n",
      "Recall: 0.9859\n",
      "F1 Score: 0.9849\n",
      "Accuracy: 0.9859\n",
      "Test loss: 0.05915397962172943\n",
      "Epoch: 16/25 --- < Starting Time : Sat Dec 21 19:44:46 2024 >\n",
      "-------------------------------------------------------------\n"
     ]
    },
    {
     "name": "stderr",
     "output_type": "stream",
     "text": [
      "100%|██████████| 8644/8644 [09:48<00:00, 14.70it/s]\n"
     ]
    },
    {
     "name": "stdout",
     "output_type": "stream",
     "text": [
      "Epoch16 loss : \n",
      " pretrain loss : 335.3423156738281\n"
     ]
    },
    {
     "name": "stderr",
     "output_type": "stream",
     "text": [
      "100%|██████████| 2161/2161 [01:03<00:00, 34.11it/s]\n"
     ]
    },
    {
     "name": "stdout",
     "output_type": "stream",
     "text": [
      "Precision: 0.9852\n",
      "Recall: 0.9839\n",
      "F1 Score: 0.9838\n",
      "Accuracy: 0.9839\n",
      "Test loss: 0.06089903158134997\n",
      "Epoch: 17/25 --- < Starting Time : Sat Dec 21 19:55:39 2024 >\n",
      "-------------------------------------------------------------\n"
     ]
    },
    {
     "name": "stderr",
     "output_type": "stream",
     "text": [
      "100%|██████████| 8644/8644 [09:45<00:00, 14.75it/s]\n"
     ]
    },
    {
     "name": "stdout",
     "output_type": "stream",
     "text": [
      "Epoch17 loss : \n",
      " pretrain loss : 340.43804931640625\n"
     ]
    },
    {
     "name": "stderr",
     "output_type": "stream",
     "text": [
      "100%|██████████| 2161/2161 [01:03<00:00, 33.88it/s]\n"
     ]
    },
    {
     "name": "stdout",
     "output_type": "stream",
     "text": [
      "Precision: 0.9901\n",
      "Recall: 0.9899\n",
      "F1 Score: 0.9900\n",
      "Accuracy: 0.9899\n",
      "Test loss: 0.03132240874184255\n",
      "Epoch: 18/25 --- < Starting Time : Sat Dec 21 20:06:31 2024 >\n",
      "-------------------------------------------------------------\n"
     ]
    },
    {
     "name": "stderr",
     "output_type": "stream",
     "text": [
      "100%|██████████| 8644/8644 [09:48<00:00, 14.69it/s]\n"
     ]
    },
    {
     "name": "stdout",
     "output_type": "stream",
     "text": [
      "Epoch18 loss : \n",
      " pretrain loss : 341.41021728515625\n"
     ]
    },
    {
     "name": "stderr",
     "output_type": "stream",
     "text": [
      "100%|██████████| 2161/2161 [01:03<00:00, 34.22it/s]\n"
     ]
    },
    {
     "name": "stdout",
     "output_type": "stream",
     "text": [
      "Precision: 0.9905\n",
      "Recall: 0.9905\n",
      "F1 Score: 0.9905\n",
      "Accuracy: 0.9905\n",
      "Test loss: 0.032844705094591226\n",
      "Epoch: 19/25 --- < Starting Time : Sat Dec 21 20:17:25 2024 >\n",
      "-------------------------------------------------------------\n"
     ]
    },
    {
     "name": "stderr",
     "output_type": "stream",
     "text": [
      "100%|██████████| 8644/8644 [09:46<00:00, 14.74it/s]\n"
     ]
    },
    {
     "name": "stdout",
     "output_type": "stream",
     "text": [
      "Epoch19 loss : \n",
      " pretrain loss : 313.7786865234375\n"
     ]
    },
    {
     "name": "stderr",
     "output_type": "stream",
     "text": [
      "100%|██████████| 2161/2161 [01:03<00:00, 34.03it/s]\n"
     ]
    },
    {
     "name": "stdout",
     "output_type": "stream",
     "text": [
      "Precision: 0.9938\n",
      "Recall: 0.9938\n",
      "F1 Score: 0.9937\n",
      "Accuracy: 0.9938\n",
      "Test loss: 0.027584747023547913\n",
      "Epoch: 20/25 --- < Starting Time : Sat Dec 21 20:28:17 2024 >\n",
      "-------------------------------------------------------------\n"
     ]
    },
    {
     "name": "stderr",
     "output_type": "stream",
     "text": [
      "100%|██████████| 8644/8644 [09:47<00:00, 14.72it/s]\n"
     ]
    },
    {
     "name": "stdout",
     "output_type": "stream",
     "text": [
      "Epoch20 loss : \n",
      " pretrain loss : 312.65582275390625\n"
     ]
    },
    {
     "name": "stderr",
     "output_type": "stream",
     "text": [
      "100%|██████████| 2161/2161 [01:03<00:00, 33.80it/s]\n"
     ]
    },
    {
     "name": "stdout",
     "output_type": "stream",
     "text": [
      "Precision: 0.9869\n",
      "Recall: 0.9868\n",
      "F1 Score: 0.9868\n",
      "Accuracy: 0.9868\n",
      "Test loss: 0.04821373227776825\n",
      "Epoch: 21/25 --- < Starting Time : Sat Dec 21 20:39:11 2024 >\n",
      "-------------------------------------------------------------\n"
     ]
    },
    {
     "name": "stderr",
     "output_type": "stream",
     "text": [
      "100%|██████████| 8644/8644 [09:47<00:00, 14.72it/s]\n"
     ]
    },
    {
     "name": "stdout",
     "output_type": "stream",
     "text": [
      "Epoch21 loss : \n",
      " pretrain loss : 314.2381286621094\n"
     ]
    },
    {
     "name": "stderr",
     "output_type": "stream",
     "text": [
      "100%|██████████| 2161/2161 [01:03<00:00, 33.87it/s]\n"
     ]
    },
    {
     "name": "stdout",
     "output_type": "stream",
     "text": [
      "Precision: 0.9908\n",
      "Recall: 0.9906\n",
      "F1 Score: 0.9906\n",
      "Accuracy: 0.9906\n",
      "Test loss: 0.03249695347190434\n",
      "Epoch: 22/25 --- < Starting Time : Sat Dec 21 20:50:04 2024 >\n",
      "-------------------------------------------------------------\n"
     ]
    },
    {
     "name": "stderr",
     "output_type": "stream",
     "text": [
      "100%|██████████| 8644/8644 [09:46<00:00, 14.73it/s]\n"
     ]
    },
    {
     "name": "stdout",
     "output_type": "stream",
     "text": [
      "Epoch22 loss : \n",
      " pretrain loss : 334.6990966796875\n"
     ]
    },
    {
     "name": "stderr",
     "output_type": "stream",
     "text": [
      "100%|██████████| 2161/2161 [01:03<00:00, 33.97it/s]\n"
     ]
    },
    {
     "name": "stdout",
     "output_type": "stream",
     "text": [
      "Precision: 0.9868\n",
      "Recall: 0.9865\n",
      "F1 Score: 0.9866\n",
      "Accuracy: 0.9865\n",
      "Test loss: 0.0512643877431382\n",
      "Epoch: 23/25 --- < Starting Time : Sat Dec 21 21:00:57 2024 >\n",
      "-------------------------------------------------------------\n"
     ]
    },
    {
     "name": "stderr",
     "output_type": "stream",
     "text": [
      "100%|██████████| 8644/8644 [09:47<00:00, 14.72it/s]\n"
     ]
    },
    {
     "name": "stdout",
     "output_type": "stream",
     "text": [
      "Epoch23 loss : \n",
      " pretrain loss : 329.301025390625\n"
     ]
    },
    {
     "name": "stderr",
     "output_type": "stream",
     "text": [
      "100%|██████████| 2161/2161 [01:03<00:00, 34.14it/s]\n"
     ]
    },
    {
     "name": "stdout",
     "output_type": "stream",
     "text": [
      "Precision: 0.9893\n",
      "Recall: 0.9883\n",
      "F1 Score: 0.9886\n",
      "Accuracy: 0.9883\n",
      "Test loss: 0.04163101706803671\n",
      "Epoch: 24/25 --- < Starting Time : Sat Dec 21 21:11:50 2024 >\n",
      "-------------------------------------------------------------\n"
     ]
    },
    {
     "name": "stderr",
     "output_type": "stream",
     "text": [
      "100%|██████████| 8644/8644 [09:48<00:00, 14.69it/s]\n"
     ]
    },
    {
     "name": "stdout",
     "output_type": "stream",
     "text": [
      "Epoch24 loss : \n",
      " pretrain loss : 310.4465026855469\n"
     ]
    },
    {
     "name": "stderr",
     "output_type": "stream",
     "text": [
      "100%|██████████| 2161/2161 [01:03<00:00, 33.86it/s]\n"
     ]
    },
    {
     "name": "stdout",
     "output_type": "stream",
     "text": [
      "Precision: 0.9872\n",
      "Recall: 0.9868\n",
      "F1 Score: 0.9869\n",
      "Accuracy: 0.9868\n",
      "Test loss: 0.04626175354122405\n",
      "Epoch: 25/25 --- < Starting Time : Sat Dec 21 21:22:44 2024 >\n",
      "-------------------------------------------------------------\n"
     ]
    },
    {
     "name": "stderr",
     "output_type": "stream",
     "text": [
      "100%|██████████| 8644/8644 [09:45<00:00, 14.77it/s]\n"
     ]
    },
    {
     "name": "stdout",
     "output_type": "stream",
     "text": [
      "Epoch25 loss : \n",
      " pretrain loss : 340.0849609375\n"
     ]
    },
    {
     "name": "stderr",
     "output_type": "stream",
     "text": [
      "100%|██████████| 2161/2161 [01:03<00:00, 34.19it/s]"
     ]
    },
    {
     "name": "stdout",
     "output_type": "stream",
     "text": [
      "Precision: 0.9929\n",
      "Recall: 0.9928\n",
      "F1 Score: 0.9928\n",
      "Accuracy: 0.9928\n",
      "Test loss: 0.022847359690412378\n"
     ]
    },
    {
     "name": "stderr",
     "output_type": "stream",
     "text": [
      "\n"
     ]
    }
   ],
   "source": [
    "# finetune classification\n",
    "from sklearn.metrics import precision_score, recall_score, f1_score, accuracy_score\n",
    "model_mae = None\n",
    "torch.cuda.empty_cache()\n",
    "pretrain_epoch = 25\n",
    "device = torch.device('cuda' if torch.cuda.is_available() else 'cpu')\n",
    "start_epoch = 0\n",
    "\n",
    "ce_loss = nn.CrossEntropyLoss()\n",
    "\n",
    "if start_epoch:\n",
    "    load_checkpoints(start_epoch-1, model_mae, optimizer, stage=\"finetune\")\n",
    "\n",
    "for epoch in range(start_epoch, pretrain_epoch):\n",
    "    torch.cuda.empty_cache()\n",
    "    epoch_loss = 0\n",
    "\n",
    "    localtime = time.asctime( time.localtime(time.time()) )\n",
    "    print('Epoch: {}/{} --- < Starting Time : {} >'.format(epoch + 1, pretrain_epoch,localtime))\n",
    "    print('-' * len('Epoch: {}/{} --- < Starting Time : {} >'.format(epoch + 1, pretrain_epoch,localtime)))\n",
    "\n",
    "    folder_name = os.path.join(\"see_image\", \"warm\")\n",
    "    os.makedirs(folder_name, exist_ok=True)\n",
    "\n",
    "    torch.cuda.empty_cache()\n",
    "\n",
    "    #model_mae.eval()\n",
    "    model_autoencoder.train()\n",
    "    \n",
    "    \n",
    "    for batch in tqdm(finetune_loader):\n",
    "        img, label = batch\n",
    "        img, label = img.to(device), label.to(device)\n",
    "\n",
    "\n",
    "        outputs = model_autoencoder(img)\n",
    "        loss = ce_loss(outputs.logits, label)\n",
    "\n",
    "        optimizer.zero_grad()\n",
    "        loss.backward()\n",
    "        optimizer.step()\n",
    "        epoch_loss += loss\n",
    "        \n",
    "        \n",
    "    print(f'Epoch{epoch+1} loss : \\n pretrain loss : {epoch_loss}')\n",
    "    epoch_loss = epoch_loss / len(finetune_loader)\n",
    "    \n",
    "    with open(\"Deit_train.txt\", 'a+') as f:\n",
    "        f.write(f\"{epoch_loss}\\n\")\n",
    "        \n",
    "    #validation\n",
    "\n",
    "\n",
    "\n",
    "    test_loss = 0\n",
    "    model_autoencoder.eval()\n",
    "\n",
    "    # Initialize lists to store true labels and predictions\n",
    "    all_labels = []\n",
    "    all_preds = []\n",
    "\n",
    "    with torch.no_grad():\n",
    "        for batch in tqdm(val_loader):\n",
    "            img, label = batch\n",
    "            img, label = img.to(device), label.to(device)\n",
    "\n",
    "            #image_features = model.encode_image(img)\n",
    "            #text_features = model.encode_text(clip.tokenize(cathegories).to(device))\n",
    "\n",
    "            outputs = model_autoencoder(img)\n",
    "            #probs = logits_img.softmax(dim=-1).cpu().numpy()\n",
    "            loss = ce_loss(outputs.logits, label)\n",
    "\n",
    "            \n",
    "            # Store the true labels and predictions\n",
    "            preds = outputs.logits.argmax(dim=1).cpu().numpy()\n",
    "            all_labels.extend(label.cpu().numpy())\n",
    "            all_preds.extend(preds)\n",
    "            test_loss += loss.item()\n",
    "    test_loss = test_loss / len(val_loader)\n",
    "    with open(\"Deit_val.txt\",  \"a+\") as f:\n",
    "        f.write(f\"{test_loss}\\n\")\n",
    "            \n",
    "    # Calculate precision, recall, F1 score, and accuracy\n",
    "    precision = precision_score(all_labels, all_preds, average='weighted')\n",
    "    recall = recall_score(all_labels, all_preds, average='weighted')\n",
    "    f1 = f1_score(all_labels, all_preds, average='weighted')\n",
    "    accuracy = accuracy_score(all_labels, all_preds)\n",
    "\n",
    "    print(f\"Precision: {precision:.4f}\")\n",
    "    print(f\"Recall: {recall:.4f}\")\n",
    "    print(f\"F1 Score: {f1:.4f}\")\n",
    "    print(f\"Accuracy: {accuracy:.4f}\")\n",
    "\n",
    "    print(\"Test loss:\", test_loss)"
   ]
  }
 ],
 "metadata": {
  "kernelspec": {
   "display_name": "retfound",
   "language": "python",
   "name": "python3"
  },
  "language_info": {
   "codemirror_mode": {
    "name": "ipython",
    "version": 3
   },
   "file_extension": ".py",
   "mimetype": "text/x-python",
   "name": "python",
   "nbconvert_exporter": "python",
   "pygments_lexer": "ipython3",
   "version": "3.7.12"
  }
 },
 "nbformat": 4,
 "nbformat_minor": 2
}
